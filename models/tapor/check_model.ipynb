{
 "cells": [
  {
   "cell_type": "markdown",
   "metadata": {},
   "source": [
    "# check transformer block"
   ]
  },
  {
   "cell_type": "code",
   "execution_count": 1,
   "metadata": {},
   "outputs": [
    {
     "name": "stdout",
     "output_type": "stream",
     "text": [
      "torch.Size([21, 10, 256])\n"
     ]
    }
   ],
   "source": [
    "from torchinfo import summary\n",
    "import torch\n",
    "import matplotlib.pyplot as plt \n",
    "from transformer import HandposeEncoder\n",
    "device = torch.device(\"cuda:0\" if torch.cuda.is_available() else \"cpu\")\n",
    "en = HandposeEncoder(256, 24,32,24,10,24,8,num_layers=3).to(device)#(q_dimentoins, kv_dimentoins,h_src,w_src,batch,c_src, num_heads, forward_dimentions, dropout,num_layers)\n",
    "src = torch.rand(10, 24, 32, 24).to(device)\n",
    "support_embed = torch.rand(10, 21, 256).to(device)\n",
    "query_embed = en(src, support_embed)\n",
    "print(query_embed.shape)\n"
   ]
  },
  {
   "cell_type": "markdown",
   "metadata": {},
   "source": [
    "# check the fusion blocks"
   ]
  },
  {
   "cell_type": "code",
   "execution_count": 2,
   "metadata": {},
   "outputs": [
    {
     "name": "stdout",
     "output_type": "stream",
     "text": [
      "torch.Size([1, 21, 32, 24])\n",
      "torch.Size([21, 21])\n"
     ]
    },
    {
     "data": {
      "image/png": "[encoded data removed]",
      "text/plain": [
       "<Figure size 640x480 with 1 Axes>"
      ]
     },
     "metadata": {},
     "output_type": "display_data"
    },
    {
     "data": {
      "text/plain": [
       "==========================================================================================\n",
       "Layer (type:depth-idx)                   Output Shape              Param #\n",
       "==========================================================================================\n",
       "CrossKeypointsFusion                     [1, 21, 32, 24]           --\n",
       "├─Conv2d: 1-1                            [1, 21, 32, 24]           441\n",
       "├─BatchNorm2d: 1-2                       [1, 21, 32, 24]           42\n",
       "├─ReLU: 1-3                              [1, 21, 32, 24]           --\n",
       "==========================================================================================\n",
       "Total params: 483\n",
       "Trainable params: 483\n",
       "Non-trainable params: 0\n",
       "Total mult-adds (M): 0.34\n",
       "==========================================================================================\n",
       "Input size (MB): 0.06\n",
       "Forward/backward pass size (MB): 0.26\n",
       "Params size (MB): 0.00\n",
       "Estimated Total Size (MB): 0.32\n",
       "=========================================================================================="
      ]
     },
     "execution_count": 2,
     "metadata": {},
     "output_type": "execute_result"
    }
   ],
   "source": [
    "from FusionBlocks import CrossKeypointsFusion\n",
    "from torchinfo import summary\n",
    "import torch\n",
    "import matplotlib.pyplot as plt \n",
    "\n",
    "# test the CrossKeypointsFusion\n",
    "x = torch.randn(1, 21, 32, 24)\n",
    "cross_keypoints_fusion = CrossKeypointsFusion(21, trainable=True, init_adjacent_matrix=True)\n",
    "y = cross_keypoints_fusion(x)\n",
    "print(y.shape)\n",
    "wt = cross_keypoints_fusion.conv.weight.data[:,:,0,0]\n",
    "print(wt.shape)\n",
    "plt.imshow(wt)\n",
    "plt.show()\n",
    "\n",
    "# print(cross_keypoints_fusion.conv.weight.requires_grad)\n",
    "summary(cross_keypoints_fusion, input_size=(1, 21, 32, 24))"
   ]
  },
  {
   "cell_type": "code",
   "execution_count": 7,
   "metadata": {},
   "outputs": [
    {
     "name": "stdout",
     "output_type": "stream",
     "text": [
      "torch.Size([1, 1, 21, 768])\n"
     ]
    }
   ],
   "source": [
    "# test the TemporalKeypointsFusion\n",
    "from FusionBlocks import TemporalKeypointsFusion\n",
    "num_history = 0\n",
    "num_blocks = 3\n",
    "current_keypoints_feature = torch.randn(1, 1, 21, 32*24)\n",
    "previous_keypoints_features = torch.randn(1, num_history, 21, 32*24)\n",
    "temporal_keypoints_fusion = TemporalKeypointsFusion(num_history, num_blocks)\n",
    "fused_keypoints_features = temporal_keypoints_fusion(current_keypoints_feature, previous_keypoints_features)\n",
    "print(fused_keypoints_features.shape)"
   ]
  },
  {
   "cell_type": "code",
   "execution_count": null,
   "metadata": {},
   "outputs": [],
   "source": []
  },
  {
   "cell_type": "markdown",
   "metadata": {},
   "source": [
    "# check mobile block"
   ]
  },
  {
   "cell_type": "code",
   "execution_count": 1,
   "metadata": {},
   "outputs": [
    {
     "name": "stdout",
     "output_type": "stream",
     "text": [
      "TT:\n",
      "torch.Size([1, 128, 15, 20])\n",
      "15 20\n"
     ]
    },
    {
     "data": {
      "text/plain": [
       "==========================================================================================\n",
       "Layer (type:depth-idx)                   Output Shape              Param #\n",
       "==========================================================================================\n",
       "MobileEncoder                            [1, 128, 15, 20]          --\n",
       "├─Upsample: 1-1                          [1, 1, 240, 320]          --\n",
       "├─Sequential: 1-2                        [1, 128, 15, 20]          --\n",
       "│    └─Sequential: 2-1                   [1, 1, 120, 160]          --\n",
       "│    │    └─Conv2d: 3-1                  [1, 1, 120, 160]          9\n",
       "│    │    └─BatchNorm2d: 3-2             [1, 1, 120, 160]          2\n",
       "│    │    └─ReLU6: 3-3                   [1, 1, 120, 160]          --\n",
       "│    └─InvertedResidual: 2-2             [1, 16, 120, 160]         --\n",
       "│    │    └─Sequential: 3-4              [1, 16, 120, 160]         59\n",
       "│    └─InvertedResidual: 2-3             [1, 24, 60, 80]           --\n",
       "│    │    └─Sequential: 3-5              [1, 24, 60, 80]           5,136\n",
       "│    └─InvertedResidual: 2-4             [1, 24, 60, 80]           --\n",
       "│    │    └─Sequential: 3-6              [1, 24, 60, 80]           8,832\n",
       "│    └─InvertedResidual: 2-5             [1, 32, 30, 40]           --\n",
       "│    │    └─Sequential: 3-7              [1, 32, 30, 40]           10,000\n",
       "│    └─InvertedResidual: 2-6             [1, 32, 30, 40]           --\n",
       "│    │    └─Sequential: 3-8              [1, 32, 30, 40]           14,848\n",
       "│    └─InvertedResidual: 2-7             [1, 32, 30, 40]           --\n",
       "│    │    └─Sequential: 3-9              [1, 32, 30, 40]           14,848\n",
       "│    └─InvertedResidual: 2-8             [1, 64, 15, 20]           --\n",
       "│    │    └─Sequential: 3-10             [1, 64, 15, 20]           21,056\n",
       "│    └─InvertedResidual: 2-9             [1, 64, 15, 20]           --\n",
       "│    │    └─Sequential: 3-11             [1, 64, 15, 20]           54,272\n",
       "│    └─InvertedResidual: 2-10            [1, 64, 15, 20]           --\n",
       "│    │    └─Sequential: 3-12             [1, 64, 15, 20]           54,272\n",
       "│    └─InvertedResidual: 2-11            [1, 64, 15, 20]           --\n",
       "│    │    └─Sequential: 3-13             [1, 64, 15, 20]           54,272\n",
       "│    └─Sequential: 2-12                  [1, 128, 15, 20]          --\n",
       "│    │    └─Conv2d: 3-14                 [1, 128, 15, 20]          8,192\n",
       "│    │    └─BatchNorm2d: 3-15            [1, 128, 15, 20]          256\n",
       "│    │    └─ReLU6: 3-16                  [1, 128, 15, 20]          --\n",
       "==========================================================================================\n",
       "Total params: 246,054\n",
       "Trainable params: 246,054\n",
       "Non-trainable params: 0\n",
       "Total mult-adds (M): 203.45\n",
       "==========================================================================================\n",
       "Input size (MB): 0.00\n",
       "Forward/backward pass size (MB): 116.12\n",
       "Params size (MB): 0.98\n",
       "Estimated Total Size (MB): 117.11\n",
       "=========================================================================================="
      ]
     },
     "execution_count": 1,
     "metadata": {},
     "output_type": "execute_result"
    }
   ],
   "source": [
    "from MobileNetEncoder import MobileEncoder\n",
    "from torchinfo import summary\n",
    "import torch\n",
    "\n",
    "interverted_residual_setting = [\n",
    "        # t, c, n, s\n",
    "        [1, 16, 1, 1],\n",
    "        [6, 24, 2, 2],\n",
    "        [6, 32, 3, 2],\n",
    "        [6, 64, 4, 2],\n",
    "        # [6, 96, 3, 1],\n",
    "        # [6, 160, 3, 2],\n",
    "        # [6, 320, 1, 1],\n",
    "    ]\n",
    "spatial_encoder = MobileEncoder(input_channel = 1, last_channel = 128 , width_mult=1., interverted_residual_setting =interverted_residual_setting, upsample_scale_factor = 10)\n",
    "\n",
    "print(\"TT:\")\n",
    "print(spatial_encoder.get_output_shape( batch_size = 1, input_channel = 1, h = 24, w = 32))\n",
    "_, _,w,h = spatial_encoder.get_output_shape( batch_size = 1, input_channel = 1, h = 24, w = 32)\n",
    "print(w,h)\n",
    "\n",
    "summary(spatial_encoder, input_size=(1, 1, 24, 32))\n"
   ]
  },
  {
   "cell_type": "code",
   "execution_count": 2,
   "metadata": {},
   "outputs": [
    {
     "name": "stdout",
     "output_type": "stream",
     "text": [
      "TT:\n",
      "torch.Size([1, 21, 6, 8])\n",
      "6 8\n"
     ]
    },
    {
     "data": {
      "text/plain": [
       "==========================================================================================\n",
       "Layer (type:depth-idx)                   Output Shape              Param #\n",
       "==========================================================================================\n",
       "MobileEncoder                            [1, 21, 6, 8]             --\n",
       "├─Sequential: 1-1                        [1, 21, 6, 8]             --\n",
       "│    └─Sequential: 2-1                   [1, 1, 12, 16]            --\n",
       "│    │    └─Conv2d: 3-1                  [1, 1, 12, 16]            9\n",
       "│    │    └─BatchNorm2d: 3-2             [1, 1, 12, 16]            2\n",
       "│    │    └─ReLU6: 3-3                   [1, 1, 12, 16]            --\n",
       "│    └─InvertedResidual: 2-2             [1, 4, 12, 16]            --\n",
       "│    │    └─Sequential: 3-4              [1, 4, 12, 16]            23\n",
       "│    └─InvertedResidual: 2-3             [1, 8, 12, 16]            --\n",
       "│    │    └─Sequential: 3-5              [1, 8, 12, 16]            616\n",
       "│    └─InvertedResidual: 2-4             [1, 8, 12, 16]            --\n",
       "│    │    └─Sequential: 3-6              [1, 8, 12, 16]            1,408\n",
       "│    └─InvertedResidual: 2-5             [1, 16, 6, 8]             --\n",
       "│    │    └─Sequential: 3-7              [1, 16, 6, 8]             1,808\n",
       "│    └─InvertedResidual: 2-6             [1, 16, 6, 8]             --\n",
       "│    │    └─Sequential: 3-8              [1, 16, 6, 8]             4,352\n",
       "│    └─InvertedResidual: 2-7             [1, 16, 6, 8]             --\n",
       "│    │    └─Sequential: 3-9              [1, 16, 6, 8]             4,352\n",
       "│    └─InvertedResidual: 2-8             [1, 24, 6, 8]             --\n",
       "│    │    └─Sequential: 3-10             [1, 24, 6, 8]             5,136\n",
       "│    └─InvertedResidual: 2-9             [1, 24, 6, 8]             --\n",
       "│    │    └─Sequential: 3-11             [1, 24, 6, 8]             8,832\n",
       "│    └─InvertedResidual: 2-10            [1, 24, 6, 8]             --\n",
       "│    │    └─Sequential: 3-12             [1, 24, 6, 8]             8,832\n",
       "│    └─InvertedResidual: 2-11            [1, 24, 6, 8]             --\n",
       "│    │    └─Sequential: 3-13             [1, 24, 6, 8]             8,832\n",
       "│    └─Sequential: 2-12                  [1, 21, 6, 8]             --\n",
       "│    │    └─Conv2d: 3-14                 [1, 21, 6, 8]             504\n",
       "│    │    └─BatchNorm2d: 3-15            [1, 21, 6, 8]             42\n",
       "│    │    └─ReLU6: 3-16                  [1, 21, 6, 8]             --\n",
       "==========================================================================================\n",
       "Total params: 44,748\n",
       "Trainable params: 44,748\n",
       "Non-trainable params: 0\n",
       "Total mult-adds (M): 2.28\n",
       "==========================================================================================\n",
       "Input size (MB): 0.00\n",
       "Forward/backward pass size (MB): 1.93\n",
       "Params size (MB): 0.18\n",
       "Estimated Total Size (MB): 2.11\n",
       "=========================================================================================="
      ]
     },
     "execution_count": 2,
     "metadata": {},
     "output_type": "execute_result"
    }
   ],
   "source": [
    "interverted_residual_setting = [\n",
    "    # t, c, n, s\n",
    "    [1, 4, 1, 1],\n",
    "    [6, 8, 2, 1],\n",
    "    [6, 16, 3, 2],\n",
    "    [6, 21, 4, 1],\n",
    "    # [6, 96, 3, 1],\n",
    "    # [6, 160, 3, 2],\n",
    "    # [6, 320, 1, 1],\n",
    "]\n",
    "keypoints_encoder = MobileEncoder(input_channel = 1, last_channel = 21 , width_mult=1., interverted_residual_setting =interverted_residual_setting, upsample_scale_factor = 1)\n",
    "\n",
    "print(\"TT:\")\n",
    "print(keypoints_encoder.get_output_shape( batch_size = 1, input_channel = 1, h = 24, w = 32))\n",
    "_, _,w,h = keypoints_encoder.get_output_shape( batch_size = 1, input_channel = 1, h = 24, w = 32)\n",
    "print(w,h)\n",
    "\n",
    "\n",
    "summary(keypoints_encoder, input_size=(1, 1, 24, 32))"
   ]
  },
  {
   "cell_type": "code",
   "execution_count": null,
   "metadata": {},
   "outputs": [],
   "source": []
  },
  {
   "cell_type": "code",
   "execution_count": 4,
   "metadata": {},
   "outputs": [
    {
     "name": "stdout",
     "output_type": "stream",
     "text": [
      "torch.Size([12, 21, 3])\n"
     ]
    }
   ],
   "source": [
    "import torch    \n",
    "import torch.nn as nn\n",
    "\n",
    "m = nn.Linear(20, 3)\n",
    "input = torch.randn(12,21 , 20)\n",
    "output = m(input)\n",
    "print(output.size())"
   ]
  }
 ],
 "metadata": {
  "kernelspec": {
   "display_name": "ira_hand",
   "language": "python",
   "name": "python3"
  },
  "language_info": {
   "codemirror_mode": {
    "name": "ipython",
    "version": 3
   },
   "file_extension": ".py",
   "mimetype": "text/x-python",
   "name": "python",
   "nbconvert_exporter": "python",
   "pygments_lexer": "ipython3",
   "version": "3.8.18"
  }
 },
 "nbformat": 4,
 "nbformat_minor": 2
}
